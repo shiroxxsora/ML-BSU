{
 "cells": [
  {
   "cell_type": "markdown",
   "id": "57384694-07ba-44cf-b3a0-519dcd71fbf2",
   "metadata": {},
   "source": [
    "*Берем данные*"
   ]
  },
  {
   "cell_type": "code",
   "execution_count": 1,
   "id": "02ffedd8-5f92-4e86-8d1f-c0b3c535b3c3",
   "metadata": {},
   "outputs": [],
   "source": [
    "from sklearn.datasets import load_iris\n",
    "import numpy as np\n",
    "import matplotlib.pyplot as plt\n",
    "\n",
    "iris = load_iris()\n",
    "X = iris.data"
   ]
  },
  {
   "cell_type": "markdown",
   "id": "04d86428-0946-4415-8a2d-e46e84dae07d",
   "metadata": {},
   "source": [
    "\n",
    "*Рандомно поределяем центры для k класстеров*"
   ]
  },
  {
   "cell_type": "code",
   "execution_count": 2,
   "id": "07c19726-ecdc-4e70-97fe-3de418430b45",
   "metadata": {},
   "outputs": [
    {
     "name": "stdout",
     "output_type": "stream",
     "text": [
      "[array([5. , 3.4, 1.6, 0.4]), array([4.5, 2.3, 1.3, 0.3]), array([6.2, 2.9, 4.3, 1.3])]\n"
     ]
    }
   ],
   "source": [
    "k = 3\n",
    "means = [X[i] for i in np.random.choice(X.shape[0], k, replace=False)]\n",
    "print(means)"
   ]
  },
  {
   "cell_type": "markdown",
   "id": "b1fda9fa-275d-49d6-98dd-31927fcbc232",
   "metadata": {},
   "source": [
    "*Цвета и массив для класстеров*"
   ]
  },
  {
   "cell_type": "code",
   "execution_count": 3,
   "id": "8bc377a2-2a64-46d6-a386-173852811f4d",
   "metadata": {
    "scrolled": true
   },
   "outputs": [],
   "source": [
    "COLORS = ('green', 'blue', 'brown', 'black')\n",
    "_X = [[] for i in range(k)]"
   ]
  },
  {
   "cell_type": "code",
   "execution_count": 4,
   "id": "7feb4a30-9a19-4925-8996-dc2dc4b051ff",
   "metadata": {},
   "outputs": [],
   "source": [
    "def ro(object, mean):\n",
    "    return np.linalg.norm(object-mean)"
   ]
  },
  {
   "cell_type": "code",
   "execution_count": 5,
   "id": "2c68f530-8031-435c-ae42-b9a5401b8805",
   "metadata": {},
   "outputs": [
    {
     "data": {
      "text/plain": [
       "<contextlib.ExitStack at 0x2a552372710>"
      ]
     },
     "execution_count": 5,
     "metadata": {},
     "output_type": "execute_result"
    },
    {
     "data": {
      "image/png": "[encoded data removed]",
      "text/plain": [
       "<Figure size 640x480 with 1 Axes>"
      ]
     },
     "metadata": {},
     "output_type": "display_data"
    }
   ],
   "source": [
    "plt.ion()\n",
    "n = 0\n",
    "\n",
    "import time\n",
    "while n < 30:\n",
    "    \n",
    "    # Считаем расстояние от каждого объекта до центров и относим их к ближайшим классам\n",
    "    for object in X:\n",
    "        r = [ro(object, mean) for mean in means]\n",
    "        _X[np.argmin(r)].append(object)\n",
    "\n",
    "    # Пересчитываем центры для каждого класса\n",
    "    means = [np.mean(class_objects, axis=0) for class_objects in _X] # _X массив с k классами \n",
    "\n",
    "    plt.clf()\n",
    "    # отображение найденных кластеров\n",
    "    for i in range(k):\n",
    "        class_objects = np.array(_X[i]).T\n",
    "        plt.scatter(class_objects[0], class_objects[1], s=10, color=COLORS[i])\n",
    "\n",
    "    # отображение центров кластеров\n",
    "    mx = [m[0] for m in means]\n",
    "    my = [m[1] for m in means]\n",
    "    plt.scatter(mx, my, s=50, color='red')\n",
    "\n",
    "    plt.draw()\n",
    "    plt.gcf().canvas.flush_events()\n",
    "#    plt.savefig(f\"lloyd {n+1}.png\")\n",
    "\n",
    "    n += 1\n",
    "\n",
    "plt.ioff()"
   ]
  }
 ],
 "metadata": {
  "kernelspec": {
   "display_name": "Python 3 (ipykernel)",
   "language": "python",
   "name": "python3"
  },
  "language_info": {
   "codemirror_mode": {
    "name": "ipython",
    "version": 3
   },
   "file_extension": ".py",
   "mimetype": "text/x-python",
   "name": "python",
   "nbconvert_exporter": "python",
   "pygments_lexer": "ipython3",
   "version": "3.11.7"
  }
 },
 "nbformat": 4,
 "nbformat_minor": 5
}
