{
 "cells": [
  {
   "cell_type": "markdown",
   "id": "57384694-07ba-44cf-b3a0-519dcd71fbf2",
   "metadata": {},
   "source": [
    "*Берем данные*"
   ]
  },
  {
   "cell_type": "code",
   "execution_count": 10,
   "id": "02ffedd8-5f92-4e86-8d1f-c0b3c535b3c3",
   "metadata": {},
   "outputs": [],
   "source": [
    "iris = load_iris()\n",
    "X = iris.data"
   ]
  },
  {
   "cell_type": "markdown",
   "id": "04d86428-0946-4415-8a2d-e46e84dae07d",
   "metadata": {},
   "source": [
    "\n",
    "*Рандомно поределяем центры для k класстеров*"
   ]
  },
  {
   "cell_type": "code",
   "execution_count": 49,
   "id": "07c19726-ecdc-4e70-97fe-3de418430b45",
   "metadata": {},
   "outputs": [
    {
     "name": "stdout",
     "output_type": "stream",
     "text": [
      "[array([5. , 3.5, 1.6, 0.6]), array([6.3, 2.5, 5. , 1.9]), array([5.1, 3.8, 1.6, 0.2])]\n"
     ]
    }
   ],
   "source": [
    "k = 3\n",
    "means = [X[i] for i in np.random.choice(X.shape[0], k, replace=False)]\n",
    "print(means)"
   ]
  },
  {
   "cell_type": "markdown",
   "id": "b1fda9fa-275d-49d6-98dd-31927fcbc232",
   "metadata": {},
   "source": [
    "*Цвета и массив для класстеров*"
   ]
  },
  {
   "cell_type": "code",
   "execution_count": 50,
   "id": "8bc377a2-2a64-46d6-a386-173852811f4d",
   "metadata": {
    "scrolled": true
   },
   "outputs": [],
   "source": [
    "COLORS = ('green', 'blue', 'brown', 'black')\n",
    "_X = [[] for i in range(k)]"
   ]
  },
  {
   "cell_type": "code",
   "execution_count": 51,
   "id": "7feb4a30-9a19-4925-8996-dc2dc4b051ff",
   "metadata": {},
   "outputs": [],
   "source": [
    "def ro(object, mean):\n",
    "    return np.linalg.norm(mean-object)"
   ]
  },
  {
   "cell_type": "code",
   "execution_count": 56,
   "id": "2c68f530-8031-435c-ae42-b9a5401b8805",
   "metadata": {},
   "outputs": [],
   "source": [
    "plt.ion()\n",
    "n = 0\n",
    "while n < 10:\n",
    "    \n",
    "    # Считаем расстояние от каждого объекта до центров и относим их к ближайшим классам\n",
    "    for object in X:\n",
    "        r = [ro(object, mean) for mean in means]\n",
    "        _X[np.argmin(r)].append(object)\n",
    "\n",
    "    # Пересчитываем центры для каждого класса\n",
    "    means = [np.means(class_objects, axis=0) for class_objects in _X] # _X массив с k классами \n",
    "        "
   ]
  },
  {
   "cell_type": "code",
   "execution_count": null,
   "id": "a8425892-98a1-4ab2-bf2e-0a332177088f",
   "metadata": {},
   "outputs": [],
   "source": [
    "\n",
    "ro = lambda x_vect, m_vect: np.mean((x_vect - m_vect) ** 2)\n",
    "\n",
    "plt.ion()\n",
    "n = 0\n",
    "while n < 10:\n",
    "    X = [[] for i in range(K)]                  # инициализация пустого двумерного списка для хранения объектов кластеров\n",
    "\n",
    "    for x_vect in x:\n",
    "        r = [ro(x_vect, m) for m in ma]         # вычисление расстояний для текущего образа до центров кластеров\n",
    "        X[np.argmin(r)].append(x_vect)          # добавление образа к кластеру с ближайшим центром\n",
    "\n",
    "    ma = [np.mean(xx, axis=0) for xx in X]      # пересчет центров кластеров\n",
    "\n",
    "    plt.clf()\n",
    "    # отображение найденных кластеров\n",
    "    for i in range(K):\n",
    "        xx = np.array(X[i]).T\n",
    "        plt.scatter(xx[0], xx[1], s=10, color=COLORS[i])\n",
    "\n",
    "    # отображение центров кластеров\n",
    "    mx = [m[0] for m in ma]\n",
    "    my = [m[1] for m in ma]\n",
    "    plt.scatter(mx, my, s=50, color='red')\n",
    "\n",
    "    plt.draw()\n",
    "    plt.gcf().canvas.flush_events()\n",
    "#    plt.savefig(f\"lloyd {n+1}.png\")\n",
    "    time.sleep(0.2)\n",
    "\n",
    "    n += 1\n",
    "\n",
    "plt.ioff()\n",
    "\n",
    "# отображение найденных кластеров\n",
    "for i in range(K):\n",
    "    xx = np.array(X[i]).T\n",
    "    plt.scatter(xx[0], xx[1], s=10, color=COLORS[i])\n",
    "\n",
    "# отображение центров кластеров\n",
    "mx = [m[0] for m in ma]\n",
    "my = [m[1] for m in ma]\n",
    "plt.scatter(mx, my, s=50, color='red')\n",
    "\n",
    "plt.show()"
   ]
  }
 ],
 "metadata": {
  "kernelspec": {
   "display_name": "Python 3 (ipykernel)",
   "language": "python",
   "name": "python3"
  },
  "language_info": {
   "codemirror_mode": {
    "name": "ipython",
    "version": 3
   },
   "file_extension": ".py",
   "mimetype": "text/x-python",
   "name": "python",
   "nbconvert_exporter": "python",
   "pygments_lexer": "ipython3",
   "version": "3.11.7"
  }
 },
 "nbformat": 4,
 "nbformat_minor": 5
}
