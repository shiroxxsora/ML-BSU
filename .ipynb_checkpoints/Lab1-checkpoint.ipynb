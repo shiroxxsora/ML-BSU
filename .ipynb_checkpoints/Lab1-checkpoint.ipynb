{
 "cells": [
  {
   "cell_type": "markdown",
   "id": "a37dc56a-8690-4c5d-a1f8-f77e916b53b8",
   "metadata": {},
   "source": [
    "# "
   ]
  },
  {
   "cell_type": "code",
   "execution_count": 3,
   "id": "838ac67e-7f3d-49c5-9307-db294444104e",
   "metadata": {},
   "outputs": [],
   "source": [
    "from sklearn.datasets import load_iris\n",
    "iris = load_iris()\n",
    "X = iris.data\n",
    "Y = iris.target"
   ]
  },
  {
   "cell_type": "code",
   "execution_count": 4,
   "id": "4c7f5d05-224e-45fb-8e52-26a7b58e0ff9",
   "metadata": {},
   "outputs": [],
   "source": [
    "def Distance(object1, object2):\n",
    "    return ((object1[0] - object2[0])**2 + (object1[1] - object2[1])**2 + (object1[2] - object2[2])**2 + (object1[3] - object2[3])**2)**(1/2)"
   ]
  },
  {
   "cell_type": "code",
   "execution_count": 5,
   "id": "f3c53939-e6d0-4601-8590-a98ea467ab92",
   "metadata": {},
   "outputs": [],
   "source": [
    "def Kernel(r):\n",
    "    if (r<=1):\n",
    "        return (3/4)*(1-r**2)\n",
    "    else:\n",
    "        return 0"
   ]
  },
  {
   "cell_type": "code",
   "execution_count": 6,
   "id": "0e211a80-d889-4afc-8dd9-9f2bc3fd0bf2",
   "metadata": {},
   "outputs": [],
   "source": [
    "def PredictByKernel(object, k=5):\n",
    "    neighbors_distance = []\n",
    "    for i in range(0, len(X)):\n",
    "        neighbors_distance.append((Distance(object, X[i]), Y[i]))\n",
    "        \n",
    "    neighbors_distance.sort()\n",
    "    sum_first_class = 0\n",
    "    sum_second_class = 0\n",
    "    sum_third_class = 0\n",
    "    for i in range(1, k+1):\n",
    "        if(neighbors_distance[i][1] == 0):\n",
    "            sum_first_class += Kernel(neighbors_distance[i][0] / neighbors_distance[k+2][0] )\n",
    "        if(neighbors_distance[i][1] == 1):\n",
    "            sum_second_class += Kernel(neighbors_distance[i][0] / neighbors_distance[k+2][0])\n",
    "        if(neighbors_distance[i][1] == 2):\n",
    "            sum_third_class += Kernel(neighbors_distance[i][0] / neighbors_distance[k+2][0])\n",
    "\n",
    "    if(sum_first_class >= sum_second_class and sum_first_class >= sum_third_class):\n",
    "        return 0;\n",
    "    else:\n",
    "        if(sum_second_class > sum_first_class and sum_second_class >= sum_third_class):\n",
    "            return 1;\n",
    "        else:\n",
    "            return 2;"
   ]
  },
  {
   "cell_type": "code",
   "execution_count": 7,
   "id": "2e7b7083-c224-4572-a109-1c28510d0179",
   "metadata": {},
   "outputs": [],
   "source": [
    "def Predict(object, k=5):\n",
    "    neighbors_distance = []\n",
    "    for i in range(0, len(X)):\n",
    "        neighbors_distance.append((Distance(object, X[i]), Y[i]))\n",
    "\n",
    "    neighbors_distance.sort()\n",
    "    sum_first_class = 0\n",
    "    sum_second_class = 0\n",
    "    sum_third_class = 0\n",
    "    for i in range(1, k+1):\n",
    "        if(neighbors_distance[i][1] == 0):\n",
    "            sum_first_class += 1\n",
    "        if(neighbors_distance[i][1] == 1):\n",
    "            sum_second_class += 1\n",
    "        if(neighbors_distance[i][1] == 2):\n",
    "            sum_third_class += 1\n",
    "\n",
    "    if(sum_first_class >= sum_second_class and sum_first_class >= sum_third_class):\n",
    "        return 0;\n",
    "    else:\n",
    "        if(sum_second_class > sum_first_class and sum_second_class >= sum_third_class):\n",
    "            return 1;\n",
    "        else:\n",
    "            return 2;"
   ]
  },
  {
   "cell_type": "code",
   "execution_count": 19,
   "id": "39082144-b858-40aa-b0ec-a5907cd5ff44",
   "metadata": {},
   "outputs": [],
   "source": [
    "def Loo(k):\n",
    "    sum_errors = 0\n",
    "    for i in range(0, len(X)):\n",
    "        if PredictByKernel(X[i], k) != Y[i]:\n",
    "            sum_errors += 1;\n",
    "    accuracy = (len(X)-sum_errors)/len(X)\n",
    "    return sum_errors"
   ]
  },
  {
   "cell_type": "code",
   "execution_count": 21,
   "id": "aaa51a4b-48d1-4640-a539-734d6a33bb81",
   "metadata": {},
   "outputs": [
    {
     "data": {
      "image/png": "[encoded data removed]",
      "text/plain": [
       "<Figure size 640x480 with 1 Axes>"
      ]
     },
     "metadata": {},
     "output_type": "display_data"
    }
   ],
   "source": [
    "save_y = []\n",
    "save_x = []\n",
    "for i in range(1, len(X)-2):\n",
    "    save_x.append(i)\n",
    "    save_y.append(Loo(i))\n",
    "    #print(f\"LOO({i}) {save_y[i-1]}\")\n",
    "\n",
    "import matplotlib.pyplot as plt\n",
    "plt.figure()\n",
    "plt.plot(save_x, save_y)\n",
    "plt.show()"
   ]
  },
  {
   "cell_type": "code",
   "execution_count": null,
   "id": "27a8064f-3a4f-4e6a-a30f-3d10f93084e5",
   "metadata": {},
   "outputs": [],
   "source": []
  }
 ],
 "metadata": {
  "kernelspec": {
   "display_name": "Python 3 (ipykernel)",
   "language": "python",
   "name": "python3"
  },
  "language_info": {
   "codemirror_mode": {
    "name": "ipython",
    "version": 3
   },
   "file_extension": ".py",
   "mimetype": "text/x-python",
   "name": "python",
   "nbconvert_exporter": "python",
   "pygments_lexer": "ipython3",
   "version": "3.11.7"
  }
 },
 "nbformat": 4,
 "nbformat_minor": 5
}
